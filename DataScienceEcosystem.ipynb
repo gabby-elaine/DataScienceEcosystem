{
 "cells": [
  {
   "cell_type": "markdown",
   "id": "ed3f3928-ad88-4cc2-afd5-4dc7f3c804aa",
   "metadata": {},
   "source": [
    "# Data Science Tools and Ecosystem"
   ]
  },
  {
   "cell_type": "markdown",
   "id": "1df1e9c9-f50d-4379-a15f-00b70462b84a",
   "metadata": {},
   "source": [
    "In this notebook, Data Science Tools and Ecosystem are summarized."
   ]
  },
  {
   "cell_type": "markdown",
   "id": "3267bfe9-1e84-41d7-8b83-79c583cb49e3",
   "metadata": {},
   "source": [
    "**Objectives:**\n",
    "- List popular languages for Data Science\n",
    "- List common libraries used in Data Data Science\n",
    "- Perform arithmetic operations in Jupyter Notebooks"
   ]
  },
  {
   "cell_type": "markdown",
   "id": "43093f13-27d4-4686-809f-c2937bd12688",
   "metadata": {},
   "source": [
    "Some of the popular languages that Data Scientists use are:\n",
    "1. Python\n",
    "2. R\n",
    "3. C++\n",
    "4. Julia"
   ]
  },
  {
   "cell_type": "markdown",
   "id": "e5186098-7d8d-494a-b6d7-5272a70516c7",
   "metadata": {},
   "source": [
    "Some of the commonly used libraries used by Data Scientists include:\n",
    "1. NumPy\n",
    "2. Pandas\n",
    "3. Matplotlib\n",
    "4. Seaborn"
   ]
  },
  {
   "cell_type": "markdown",
   "id": "1a66f544-a4bc-4292-ba83-7adcf3f4f809",
   "metadata": {},
   "source": [
    "|Data Science Tools|\n",
    "|------------------|\n",
    "|Jupyter Notebook|\n",
    "|RStudio|\n",
    "|Microsoft VS Studio|"
   ]
  },
  {
   "cell_type": "markdown",
   "id": "e95ef465-cbb9-46f3-853c-94e420086320",
   "metadata": {},
   "source": [
    "### Below are a few examples of evaluating arithmetic expressions in Python"
   ]
  },
  {
   "cell_type": "code",
   "execution_count": 36,
   "id": "9c2ff4be-34ab-4d16-8c12-ab8ef08a0fb3",
   "metadata": {},
   "outputs": [
    {
     "data": {
      "text/plain": [
       "17"
      ]
     },
     "execution_count": 36,
     "metadata": {},
     "output_type": "execute_result"
    }
   ],
   "source": [
    "#This a simple arithmetic expression to mutiply then add integers\n",
    "(3*4)+5"
   ]
  },
  {
   "cell_type": "code",
   "execution_count": 38,
   "id": "1e853883-d91b-4238-bfef-06a22712ec16",
   "metadata": {},
   "outputs": [
    {
     "data": {
      "text/plain": [
       "3.3333333333333335"
      ]
     },
     "execution_count": 38,
     "metadata": {},
     "output_type": "execute_result"
    }
   ],
   "source": [
    "# This will convert 200 minutes to hours by dividing by 60\n",
    "200*(1/60)"
   ]
  },
  {
   "cell_type": "markdown",
   "id": "3af0f446-fd90-4793-b9b5-1dcbbf2f79c5",
   "metadata": {},
   "source": [
    "## Author\n",
    "Gabrielle L."
   ]
  },
  {
   "cell_type": "code",
   "execution_count": null,
   "id": "8a51468f-cb4f-4083-8620-af984cbb8a14",
   "metadata": {},
   "outputs": [],
   "source": []
  }
 ],
 "metadata": {
  "kernelspec": {
   "display_name": "Python 3 (ipykernel)",
   "language": "python",
   "name": "python3"
  },
  "language_info": {
   "codemirror_mode": {
    "name": "ipython",
    "version": 3
   },
   "file_extension": ".py",
   "mimetype": "text/x-python",
   "name": "python",
   "nbconvert_exporter": "python",
   "pygments_lexer": "ipython3",
   "version": "3.12.7"
  }
 },
 "nbformat": 4,
 "nbformat_minor": 5
}
